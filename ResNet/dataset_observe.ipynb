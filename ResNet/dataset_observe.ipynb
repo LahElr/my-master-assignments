{
 "cells": [
  {
   "cell_type": "code",
   "execution_count": 2,
   "metadata": {},
   "outputs": [
    {
     "name": "stdout",
     "output_type": "stream",
     "text": [
      "Files already downloaded and verified\n",
      "Files already downloaded and verified\n"
     ]
    }
   ],
   "source": [
    "import utils\n",
    "import torch\n",
    "import data\n",
    "import torchvision.transforms as transforms\n",
    "import numpy"
   ]
  },
  {
   "cell_type": "code",
   "execution_count": 3,
   "metadata": {},
   "outputs": [],
   "source": [
    "# transform_observe = transforms.Compose([numpy.asarray]) # transform.ToTensor would norm the color value to [0,1]\n",
    "transform_observe = transforms.Compose([transforms.ToTensor(),transforms.Normalize((0.4914, 0.4822, 0.4465), (0.2023, 0.1994, 0.2010))])"
   ]
  },
  {
   "cell_type": "code",
   "execution_count": 4,
   "metadata": {},
   "outputs": [],
   "source": [
    "train_ds = data.NewCifer10(\"train\")\n",
    "train_ds_tr = data.NewCifer10(\"train\",transform=transform_observe)"
   ]
  },
  {
   "cell_type": "code",
   "execution_count": 10,
   "metadata": {},
   "outputs": [],
   "source": [
    "for i in range(10):\n",
    "    train_ds[i][0].save(f\"./image_example/{i}.png\")"
   ]
  },
  {
   "cell_type": "code",
   "execution_count": 5,
   "metadata": {},
   "outputs": [
    {
     "data": {
      "text/plain": [
       "6"
      ]
     },
     "execution_count": 5,
     "metadata": {},
     "output_type": "execute_result"
    }
   ],
   "source": [
    "train_ds[0][1] # 6:frog"
   ]
  },
  {
   "cell_type": "code",
   "execution_count": 6,
   "metadata": {},
   "outputs": [
    {
     "name": "stdout",
     "output_type": "stream",
     "text": [
      "tensor(-1.2854) tensor(-1.1989) tensor(-0.9922)\n"
     ]
    }
   ],
   "source": [
    "print(train_ds_tr[0][0][0,0,0],\n",
    "train_ds_tr[0][0][1,0,0],\n",
    "train_ds_tr[0][0][2,0,0])"
   ]
  },
  {
   "cell_type": "code",
   "execution_count": 7,
   "metadata": {},
   "outputs": [
    {
     "data": {
      "text/plain": [
       "6"
      ]
     },
     "execution_count": 7,
     "metadata": {},
     "output_type": "execute_result"
    }
   ],
   "source": [
    "train_ds_tr[0][1]"
   ]
  },
  {
   "cell_type": "code",
   "execution_count": 8,
   "metadata": {},
   "outputs": [],
   "source": [
    "fig_sum = numpy.zeros_like(train_ds_tr[0][0],dtype = numpy.int64)\n",
    "class_statistic = [0 for _ in range(10)]\n",
    "train_set_count = 0"
   ]
  },
  {
   "cell_type": "code",
   "execution_count": 10,
   "metadata": {},
   "outputs": [],
   "source": [
    "for fig,label in train_ds_tr:\n",
    "    fig_sum = numpy.add(fig_sum,fig)\n",
    "    class_statistic[label]+=1\n",
    "    train_set_count+=1"
   ]
  },
  {
   "cell_type": "code",
   "execution_count": 11,
   "metadata": {},
   "outputs": [
    {
     "data": {
      "text/plain": [
       "tensor(4253.9819, dtype=torch.float64)"
      ]
     },
     "execution_count": 11,
     "metadata": {},
     "output_type": "execute_result"
    }
   ],
   "source": [
    "fig_sum[0,0,0]"
   ]
  },
  {
   "cell_type": "code",
   "execution_count": 13,
   "metadata": {},
   "outputs": [
    {
     "name": "stdout",
     "output_type": "stream",
     "text": [
      "torch.Size([3, 32, 32]) torch.Size([3, 32, 32])\n",
      "tensor([-6.9136e-04, -5.6388e-04, -4.8284e-05], dtype=torch.float64)\n"
     ]
    }
   ],
   "source": [
    "fig_mean = fig_sum/train_set_count\n",
    "mean_color = fig_mean.mean(axis = (1,2))\n",
    "print(fig_sum.shape,fig_mean.shape)\n",
    "print(mean_color)"
   ]
  },
  {
   "cell_type": "code",
   "execution_count": null,
   "metadata": {},
   "outputs": [
    {
     "name": "stderr",
     "output_type": "stream",
     "text": [
      "Clipping input data to the valid range for imshow with RGB data ([0..1] for floats or [0..255] for integers).\n"
     ]
    },
    {
     "data": {
      "image/png": "[encoded data removed]",
      "text/plain": [
       "<Figure size 640x480 with 1 Axes>"
      ]
     },
     "metadata": {},
     "output_type": "display_data"
    }
   ],
   "source": [
    "from PIL import Image\n",
    "img_mean = fig_mean.astype(numpy.int8)\n",
    "import matplotlib\n",
    "from matplotlib import pyplot as plt\n",
    "plt.imshow(img_mean)\n",
    "plt.show()"
   ]
  },
  {
   "cell_type": "code",
   "execution_count": null,
   "metadata": {},
   "outputs": [
    {
     "data": {
      "text/plain": [
       "[3972, 4058, 3993, 4000, 4014, 3994, 3980, 3980, 4007, 4002]"
      ]
     },
     "execution_count": 13,
     "metadata": {},
     "output_type": "execute_result"
    }
   ],
   "source": [
    "class_statistic"
   ]
  },
  {
   "cell_type": "code",
   "execution_count": null,
   "metadata": {},
   "outputs": [
    {
     "data": {
      "text/plain": [
       "40000"
      ]
     },
     "execution_count": 14,
     "metadata": {},
     "output_type": "execute_result"
    }
   ],
   "source": [
    "train_set_count"
   ]
  },
  {
   "cell_type": "code",
   "execution_count": null,
   "metadata": {},
   "outputs": [
    {
     "data": {
      "text/plain": [
       "['9.93%',\n",
       " '10.145%',\n",
       " '9.9825%',\n",
       " '10.0%',\n",
       " '10.035%',\n",
       " '9.985%',\n",
       " '9.95%',\n",
       " '9.95%',\n",
       " '10.0175%',\n",
       " '10.005%']"
      ]
     },
     "execution_count": 15,
     "metadata": {},
     "output_type": "execute_result"
    }
   ],
   "source": [
    "[f\"{x*100/train_set_count}%\" for x in class_statistic]"
   ]
  },
  {
   "cell_type": "code",
   "execution_count": 32,
   "metadata": {},
   "outputs": [],
   "source": [
    "cmfig = numpy.array([[[125.27133362, 122.93232427, 113.8550241] for _ in range(32)] for _ in range(32)])\n",
    "cmfig.shape\n",
    "cmfig.dtype\n",
    "cmfig = cmfig.astype(numpy.uint8)"
   ]
  },
  {
   "cell_type": "code",
   "execution_count": 33,
   "metadata": {},
   "outputs": [],
   "source": [
    "tcmfig = transforms.ToTensor()(cmfig)\n",
    "ntcmfig = transforms.Normalize((0.4914, 0.4822, 0.4465), (0.2023, 0.1994, 0.2010))(tcmfig)\n",
    "\n",
    "# ntcmfig = transform_observe(cmfig)"
   ]
  },
  {
   "cell_type": "code",
   "execution_count": 37,
   "metadata": {},
   "outputs": [
    {
     "name": "stdout",
     "output_type": "stream",
     "text": [
      "tensor(0.49019607901573181152) tensor(0.47843137383460998535) tensor(0.44313725829124450684)\n",
      "tensor(-0.00595118338242173195) tensor(-0.01889981515705585480) tensor(-0.01673007383942604065)\n"
     ]
    }
   ],
   "source": [
    "torch.set_printoptions(precision=20)\n",
    "print(tcmfig[0,0,0],\n",
    "tcmfig[1,0,0],\n",
    "tcmfig[2,0,0])\n",
    "print(ntcmfig[0,0,0],\n",
    "ntcmfig[1,0,0],\n",
    "ntcmfig[2,0,0])"
   ]
  }
 ],
 "metadata": {
  "kernelspec": {
   "display_name": "Python 3.9.13 ('torch')",
   "language": "python",
   "name": "python3"
  },
  "language_info": {
   "codemirror_mode": {
    "name": "ipython",
    "version": 3
   },
   "file_extension": ".py",
   "mimetype": "text/x-python",
   "name": "python",
   "nbconvert_exporter": "python",
   "pygments_lexer": "ipython3",
   "version": "3.9.13"
  },
  "orig_nbformat": 4,
  "vscode": {
   "interpreter": {
    "hash": "b33be2b510529531df98f4efbafc570fe2ad167a4cce6903c29817d945a12070"
   }
  }
 },
 "nbformat": 4,
 "nbformat_minor": 2
}
