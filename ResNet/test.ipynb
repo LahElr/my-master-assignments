{
 "cells": [
  {
   "cell_type": "code",
   "execution_count": 1,
   "metadata": {},
   "outputs": [
    {
     "name": "stdout",
     "output_type": "stream",
     "text": [
      "Files already downloaded and verified\n",
      "Files already downloaded and verified\n"
     ]
    }
   ],
   "source": [
    "import data\n",
    "import utils\n",
    "import torch\n",
    "import numpy\n",
    "import models\n",
    "import torch.nn as nn"
   ]
  },
  {
   "cell_type": "code",
   "execution_count": 2,
   "metadata": {},
   "outputs": [],
   "source": [
    "testset = data.NewCifer10(\"test\", data.transform_test)\n",
    "testloader = torch.utils.data.DataLoader(testset, batch_size=utils.read_config(\n",
    "    \"train.batch_size\"), shuffle=True, num_workers=utils.read_config(\"data.num_workers\"))\n",
    "\n",
    "device = utils.read_config(\"device\")"
   ]
  },
  {
   "cell_type": "code",
   "execution_count": 3,
   "metadata": {},
   "outputs": [],
   "source": [
    "net = models.__dict__[utils.read_config(\"model.name\")]().to(device)\n",
    "loss = nn.CrossEntropyLoss().to(device)\n",
    "utils.load_checkpoint(net,\"./save/data_augment/20221014_040953/checkpoints/best_295_0.95.pth\")\n",
    "# utils.load_checkpoint(net,\"./save/data_augment/20221014_040953/checkpoints/best_295_0.95.pth\")"
   ]
  },
  {
   "cell_type": "code",
   "execution_count": 4,
   "metadata": {},
   "outputs": [],
   "source": [
    "test_loss, test_acc = models.test(0, net, loss, testloader)"
   ]
  },
  {
   "cell_type": "code",
   "execution_count": 5,
   "metadata": {},
   "outputs": [
    {
     "name": "stdout",
     "output_type": "stream",
     "text": [
      "0.15009957787734043 0.9577\n"
     ]
    }
   ],
   "source": [
    "print(test_loss,test_acc)"
   ]
  }
 ],
 "metadata": {
  "kernelspec": {
   "display_name": "Python 3.9.13 ('torch')",
   "language": "python",
   "name": "python3"
  },
  "language_info": {
   "codemirror_mode": {
    "name": "ipython",
    "version": 3
   },
   "file_extension": ".py",
   "mimetype": "text/x-python",
   "name": "python",
   "nbconvert_exporter": "python",
   "pygments_lexer": "ipython3",
   "version": "3.9.13"
  },
  "orig_nbformat": 4,
  "vscode": {
   "interpreter": {
    "hash": "b33be2b510529531df98f4efbafc570fe2ad167a4cce6903c29817d945a12070"
   }
  }
 },
 "nbformat": 4,
 "nbformat_minor": 2
}
